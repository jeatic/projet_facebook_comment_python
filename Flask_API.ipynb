{
  "nbformat": 4,
  "nbformat_minor": 0,
  "metadata": {
    "colab": {
      "provenance": []
    },
    "kernelspec": {
      "name": "python3",
      "display_name": "Python 3"
    },
    "language_info": {
      "name": "python"
    }
  },
  "cells": [
    {
      "cell_type": "markdown",
      "source": [],
      "metadata": {
        "id": "VaLxjNxLmHwR"
      }
    },
    {
      "cell_type": "code",
      "source": [
        "import csv\n",
        "import pandas as pd\n",
        "import matplotlib.pyplot as plt\n",
        "import numpy as np\n",
        "import seaborn as sns\n",
        "from sklearn.metrics import accuracy_score\n",
        "from sklearn.model_selection import GridSearchCV  # Import GridSearchCV for hyperparameter tuning\n",
        "from sklearn.linear_model import LogisticRegression\n",
        "from sklearn.ensemble import RandomForestRegressor\n",
        "from sklearn.metrics import mean_squared_error, r2_score\n",
        "from sklearn.model_selection import train_test_split\n",
        "from sklearn.ensemble import GradientBoostingRegressor\n",
        "from sklearn.ensemble import RandomForestClassifier\n",
        "from flask import Flask, request, jsonify"
      ],
      "metadata": {
        "id": "C7Nm8rnVcH-p"
      },
      "execution_count": 71,
      "outputs": []
    },
    {
      "cell_type": "markdown",
      "source": [
        "First of all, we need to install Flask"
      ],
      "metadata": {
        "id": "cbD-CJ7-mHPe"
      }
    },
    {
      "cell_type": "code",
      "source": [
        "pip install Flask"
      ],
      "metadata": {
        "id": "y6vYDL04la3m"
      },
      "execution_count": null,
      "outputs": []
    },
    {
      "cell_type": "markdown",
      "source": [
        "# **Then we need to load all the necessary data that our API needs.**"
      ],
      "metadata": {
        "id": "O6eUZ--KmXD2"
      }
    },
    {
      "cell_type": "code",
      "execution_count": 91,
      "metadata": {
        "id": "TOFivmwkanPr"
      },
      "outputs": [],
      "source": [
        "import pandas as pd\n",
        "from sklearn.ensemble import RandomForestRegressor\n",
        "import joblib\n",
        "\n",
        "# Load the preprocessed data\n",
        "data = pd.read_csv(\"/content/Features_Variant_1.csv\")\n",
        "\n",
        "# Load the trained model\n",
        "rf_model = joblib.load(\"/content/rf_model.pkl\")"
      ]
    },
    {
      "cell_type": "markdown",
      "source": [
        "# **Endpoint for Prediction that will handle incoming prediction requests.**"
      ],
      "metadata": {
        "id": "SfN46YT9mXsF"
      }
    },
    {
      "cell_type": "code",
      "source": [
        "from flask import Flask, request, jsonify\n",
        "import pandas as pd\n",
        "import joblib\n",
        "\n",
        "# Load the trained RandomForestRegressor model\n",
        "rf_model = joblib.load(\"/content/rf_model.pkl\")\n",
        "\n",
        "# Create a Flask app\n",
        "app = Flask(__name__)\n",
        "\n",
        "# Define a route for making predictions\n",
        "@app.route('/predict', methods=['POST'])\n",
        "def predict():\n",
        "    try:\n",
        "        # Get data from the request\n",
        "        data = request.get_json()\n",
        "        # Assuming data is a dictionary with required features\n",
        "        input_data = pd.DataFrame({\n",
        "            'C2': [data['C2']],\n",
        "            'CC3': [data['CC3']]\n",
        "        })\n",
        "\n",
        "        # Make prediction using the loaded model\n",
        "        prediction = rf_model.predict(input_data)\n",
        "\n",
        "        # Return the prediction as JSON\n",
        "        return jsonify({'prediction_CC4': prediction.tolist()})\n",
        "    except Exception as e:\n",
        "        return jsonify({'error': str(e)})\n",
        "\n",
        "# Run the Flask app\n",
        "if __name__ == '__main__':\n",
        "    app.run(debug=True)"
      ],
      "metadata": {
        "colab": {
          "base_uri": "https://localhost:8080/"
        },
        "id": "gKgXPUswbUN-",
        "outputId": "ecc4f2ae-b1e6-4d4d-e789-e1133c917e22"
      },
      "execution_count": 95,
      "outputs": [
        {
          "output_type": "stream",
          "name": "stdout",
          "text": [
            " * Serving Flask app '__main__'\n",
            " * Debug mode: on\n"
          ]
        },
        {
          "output_type": "stream",
          "name": "stderr",
          "text": [
            "INFO:werkzeug:\u001b[31m\u001b[1mWARNING: This is a development server. Do not use it in a production deployment. Use a production WSGI server instead.\u001b[0m\n",
            " * Running on http://127.0.0.1:5000\n",
            "INFO:werkzeug:\u001b[33mPress CTRL+C to quit\u001b[0m\n",
            "INFO:werkzeug: * Restarting with stat\n"
          ]
        }
      ]
    }
  ]
}